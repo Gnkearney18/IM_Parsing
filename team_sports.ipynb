{
 "cells": [
  {
   "cell_type": "code",
   "execution_count": null,
   "metadata": {},
   "outputs": [],
   "source": [
    "import pandas as pd"
   ]
  },
  {
   "attachments": {},
   "cell_type": "markdown",
   "metadata": {},
   "source": [
    "For player in club sport - check if playing on a team\n",
    "Increase counter for that team\n",
    "\n",
    "After check if any team is above their counter"
   ]
  },
  {
   "cell_type": "code",
   "execution_count": null,
   "metadata": {},
   "outputs": [],
   "source": [
    "club_data = pd.read_excel(\"Club Raw Data.xlsx\")\n",
    "\n",
    "im_data = pd.read_excel(\"IM Raw data.xlsx\")"
   ]
  },
  {
   "cell_type": "code",
   "execution_count": null,
   "metadata": {},
   "outputs": [],
   "source": [
    "club_data_columns = [\"Sport\", \"Year\", \"Season\", \"GTID\"]\n",
    "im_data_columns = [\"Last Name\", \"First Name\", \"Student ID\", \"Sport\", \"Team\", \"LeagueSeason\", \"LeagueYear\"]\n",
    "# print(club_data.columns)\n",
    "# print(im_data.columns)\n",
    "\n",
    "to_drop = []\n",
    "for column in im_data.columns:\n",
    "    if column not in im_data_columns:\n",
    "        to_drop.append(column)\n",
    "\n",
    "cleaned_im_data = im_data.drop(columns=to_drop)\n",
    "\n",
    "to_drop = []\n",
    "for column in club_data.columns:\n",
    "    if column not in club_data_columns:\n",
    "        to_drop.append(column)\n",
    "\n",
    "\n",
    "cleaned_club_data = club_data.drop(columns = to_drop)\n",
    "print(cleaned_im_data.columns)\n",
    "print(cleaned_club_data.columns)"
   ]
  },
  {
   "cell_type": "code",
   "execution_count": null,
   "metadata": {},
   "outputs": [],
   "source": [
    "# print(cleaned_club_data.Sport.unique())\n",
    "# print(cleaned_im_data.Sport.unique())\n",
    "\n",
    "generalized_equivalencies = [\"Volleyball\", \"Basketball\", \"Soccer\", \"Billiards\", \"Football\", \"Ultimate Frisbee\", \"Baseball\"] \n",
    "\n",
    "relevant_club_sports = []\n",
    "for sport in cleaned_club_data.Sport.unique():\n",
    "    for general in generalized_equivalencies:\n",
    "\n",
    "        if general in sport:\n",
    "            # print(sport)\n",
    "            relevant_club_sports.append(sport)\n",
    "\n",
    "irellevant = []\n",
    "for sport in cleaned_club_data.Sport.unique():\n",
    "    if sport not in relevant_club_sports:\n",
    "        irellevant.append(sport)\n",
    "print(irellevant)\n"
   ]
  },
  {
   "cell_type": "code",
   "execution_count": null,
   "metadata": {},
   "outputs": [],
   "source": [
    "index_id_sport_included = cleaned_club_data.set_index(\"GTID\")\n",
    "club_sport_relevant_data = cleaned_club_data.set_index(\"Sport\").drop(irellevant)\n",
    "\n",
    "club_sport_relevant_data = club_sport_relevant_data.set_index(\"GTID\")\n",
    "\n",
    "# print(club_sport_relevant_data.index.unique())\n",
    "# print(index_id_sport_included)\n",
    "try:\n",
    "    cleaned_im_data = cleaned_im_data.set_index(\"Student ID\")\n",
    "except:\n",
    "    pass\n",
    "\n",
    "print(cleaned_im_data.index.unique())\n",
    "\n",
    "players_to_check = []\n",
    "for im_participant in cleaned_im_data.index.unique():\n",
    "    if im_participant in club_sport_relevant_data.index.unique():\n",
    "        sport = index_id_sport_included.loc[im_participant].Sport\n",
    "        players_to_check.append((im_participant, sport))\n",
    "\n",
    "print(players_to_check)"
   ]
  },
  {
   "cell_type": "code",
   "execution_count": null,
   "metadata": {},
   "outputs": [],
   "source": [
    "club_players_with_teams = []\n",
    "for player, sport in players_to_check:\n",
    "    if type(sport) is not str:\n",
    "        sport = sport.values[-1]\n",
    "    club_players_with_teams.append((cleaned_im_data.loc[player].drop_duplicates(), sport))\n",
    "\n",
    "# print(len(club_players_with_teams))\n",
    "print(club_players_with_teams[0])\n"
   ]
  },
  {
   "cell_type": "code",
   "execution_count": null,
   "metadata": {},
   "outputs": [],
   "source": [
    "dict_of_club_players = {}\n",
    "for player, sport in club_players_with_teams:\n",
    "    \n",
    "    generic = sport\n",
    "    for generic_sport in generalized_equivalencies:\n",
    "        if generic_sport in sport:\n",
    "            generic = generic_sport\n",
    "    ID = player.index[0]\n",
    "    # print(ID)\n",
    "    # print(player)\n",
    "    for sport in player.Sport.values:\n",
    "    \n",
    "        if generic in sport:\n",
    "            player_by_sport = player.set_index(\"Sport\")\n",
    "            team = player_by_sport.loc[sport].at[\"Team\"]\n",
    "            \n",
    "            name = player_by_sport.loc[sport].at[\"First Name\"] + \" \" + player_by_sport.loc[sport].at[\"Last Name\"]\n",
    "            \n",
    "            \n",
    "            if (team, sport) in dict_of_club_players.keys():\n",
    "\n",
    "                list_to_add = dict_of_club_players.get((team, sport))\n",
    "                list_to_add.append((ID, name))\n",
    "                print(list_to_add)\n",
    "                \n",
    "                dict_of_club_players[(team, sport)] = list_to_add\n",
    "                \n",
    "            else:   \n",
    "                dict_of_club_players[(team, sport)] = [(ID, name)]\n",
    "# print(dict_of_club_players)\n",
    "    "
   ]
  },
  {
   "cell_type": "markdown",
   "metadata": {},
   "source": [
    "# THIS DOES NOT ACCOUNT FOR 3V3 BASKETBALL AT THE MOMENT\n",
    "# ALSO OTHER OVERLAPPING IM-SPORTS SO INDOOR VS OUTDOOR SOCCER"
   ]
  },
  {
   "cell_type": "markdown",
   "metadata": {},
   "source": []
  },
  {
   "cell_type": "code",
   "execution_count": null,
   "metadata": {},
   "outputs": [],
   "source": [
    "for sport, limit in zip(generalized_equivalencies,[2,2,5,0,3,3,4]):\n",
    "    print(f\"Sport: {sport} Limit: {limit}\")"
   ]
  },
  {
   "cell_type": "code",
   "execution_count": null,
   "metadata": {},
   "outputs": [],
   "source": [
    "violations = []\n",
    "for sport, limit in zip(generalized_equivalencies,[2,2,5,0,3,3,4]):\n",
    "    for team, im_sport in dict_of_club_players.keys():\n",
    "        if sport in im_sport:\n",
    "            listed_team = dict_of_club_players.get((team, im_sport))\n",
    "    \n",
    "            if (len(listed_team) > limit):\n",
    "                violations.append((team, im_sport))\n",
    "\n",
    "\n",
    "print(len(violations))\n",
    "print(violations)\n",
    "\n",
    "f = open(\"teams_in_violation.txt\", \"w\")\n",
    "for violation in violations:\n",
    "    print(f\"Team: {violation[0]}\", file=f)\n",
    "    print(f\"Sport: {violation[1]}\", file=f)\n",
    "    print(f\"Players: {dict_of_club_players.get(violation)}\", file=f)\n",
    "    print(\"\", file=f)\n",
    "f.close()\n"
   ]
  }
 ],
 "metadata": {
  "kernelspec": {
   "display_name": "IM_parsing",
   "language": "python",
   "name": "python3"
  },
  "language_info": {
   "codemirror_mode": {
    "name": "ipython",
    "version": 3
   },
   "file_extension": ".py",
   "mimetype": "text/x-python",
   "name": "python",
   "nbconvert_exporter": "python",
   "pygments_lexer": "ipython3",
   "version": "3.11.4"
  },
  "orig_nbformat": 4
 },
 "nbformat": 4,
 "nbformat_minor": 2
}
